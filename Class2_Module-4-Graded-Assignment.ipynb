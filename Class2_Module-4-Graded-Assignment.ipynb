{
 "cells": [
  {
   "cell_type": "markdown",
   "metadata": {
    "collapsed": true
   },
   "source": [
    "# Tools for Data Science - Module 4 - Peer Graded Assigment"
   ]
  },
  {
   "cell_type": "markdown",
   "metadata": {},
   "source": [
    "---\n",
    "**Alan Frazier**  \n",
    "Data Scientist  \n",
    "This is my peer graded notebook\n",
    "---"
   ]
  },
  {
   "cell_type": "markdown",
   "metadata": {},
   "source": [
    "Data Science Languages:\n",
    "1. Python\n",
    "1. R\n",
    "1. SQL\n",
    "1. Scala\n",
    "1. Julia\n",
    "1. Java\n",
    "1. Javascript"
   ]
  },
  {
   "cell_type": "markdown",
   "metadata": {},
   "source": [
    "Data Science Libraries:\n",
    "1. Pandas\n",
    "1. NumPy\n",
    "1. Matplotlib\n",
    "1. Seaborn\n",
    "1. Scikit-learn\n",
    "1. Spark"
   ]
  },
  {
   "cell_type": "markdown",
   "metadata": {},
   "source": [
    "Data Science Tools:\n",
    "1. Databases\n",
    "    1. MySQL\n",
    "    1. PostgreSQL\n",
    "    1. MongoDB\n",
    "    1. Apache CouchDB\n",
    "    1. Apache Cassandra\n",
    "1. Apache AirFlow\n",
    "1. Apache Kafka\n",
    "1. Apache Nifi\n",
    "1. Apache SparkSQL\n",
    "1. NodeRED\n",
    "1. Apache Superset\n",
    "1. Apache Spark ML\n",
    "1. TensorFlow\n",
    "1. Jupyter Notebooks\n",
    "1. Apache Zeppelin\n",
    "1. RStudio\n"
   ]
  },
  {
   "cell_type": "markdown",
   "metadata": {},
   "source": [
    "## The next cell will multiple and add numbers\n",
    "\n",
    "The instructions don't provide much detail.  So, I just added a few generic statements"
   ]
  },
  {
   "cell_type": "code",
   "execution_count": 4,
   "metadata": {},
   "outputs": [
    {
     "name": "stdout",
     "output_type": "stream",
     "text": [
      "12 * 12 = 144\n",
      "10 + 12 = 22\n"
     ]
    }
   ],
   "source": [
    "print(f\"12 * 12 = {12*12}\")\n",
    "print(f\"10 + 12 = {10+12}\")"
   ]
  },
  {
   "cell_type": "code",
   "execution_count": 7,
   "metadata": {},
   "outputs": [
    {
     "name": "stdout",
     "output_type": "stream",
     "text": [
      "120 minutes is 2.0 hours.\n",
      "145 minutes is 2.4 hours.\n"
     ]
    }
   ],
   "source": [
    "def minutes_to_hours(minutes):\n",
    "    return minutes / 60\n",
    "\n",
    "print(f\"120 minutes is {minutes_to_hours(120)} hours.\")\n",
    "print(f\"145 minutes is {minutes_to_hours(145):.1f} hours.\")"
   ]
  },
  {
   "cell_type": "markdown",
   "metadata": {},
   "source": [
    "## Objectives\n",
    "\n",
    "I'm not sure what objectives to share here.  I'm assuming it's just objectives related to this class.\n",
    "1. Learn languages of data science.\n",
    "1. Learn data science libraries.\n",
    "1. Learn data science tools.\n",
    "1. Learn jupyter notebooks"
   ]
  },
  {
   "cell_type": "markdown",
   "metadata": {},
   "source": [
    "### Author Name:  Alan Frazier"
   ]
  },
  {
   "cell_type": "code",
   "execution_count": null,
   "metadata": {},
   "outputs": [],
   "source": []
  }
 ],
 "metadata": {
  "kernelspec": {
   "display_name": "Python 3.10",
   "language": "python",
   "name": "python3"
  },
  "language_info": {
   "codemirror_mode": {
    "name": "ipython",
    "version": 3
   },
   "file_extension": ".py",
   "mimetype": "text/x-python",
   "name": "python",
   "nbconvert_exporter": "python",
   "pygments_lexer": "ipython3",
   "version": "3.10.9"
  }
 },
 "nbformat": 4,
 "nbformat_minor": 1
}
